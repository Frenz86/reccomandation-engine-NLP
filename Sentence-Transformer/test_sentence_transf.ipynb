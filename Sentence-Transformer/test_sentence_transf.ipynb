{
 "cells": [
  {
   "cell_type": "markdown",
   "id": "42308e5e",
   "metadata": {},
   "source": [
    "# Step 1: Import necessary Librabries"
   ]
  },
  {
   "cell_type": "code",
   "execution_count": null,
   "id": "a09672d6",
   "metadata": {},
   "outputs": [
    {
     "name": "stderr",
     "output_type": "stream",
     "text": [
      "ERROR: pip's dependency resolver does not currently take into account all the packages that are installed. This behaviour is the source of the following dependency conflicts.\n",
      "langchain-huggingface 0.0.3 requires langchain-core<0.3,>=0.1.52, but you have langchain-core 0.3.74 which is incompatible.\n"
     ]
    }
   ],
   "source": [
    "!pip install transformers -U -q\n",
    "!pip install sentence-transformers -q"
   ]
  },
  {
   "cell_type": "code",
   "execution_count": 2,
   "id": "a1ace887",
   "metadata": {},
   "outputs": [
    {
     "name": "stderr",
     "output_type": "stream",
     "text": [
      "c:\\Users\\danie\\AppData\\Local\\Programs\\Python\\Python311\\Lib\\site-packages\\sentence_transformers\\cross_encoder\\CrossEncoder.py:13: TqdmExperimentalWarning: Using `tqdm.autonotebook.tqdm` in notebook mode. Use `tqdm.tqdm` instead to force console mode (e.g. in jupyter console)\n",
      "  from tqdm.autonotebook import tqdm, trange\n"
     ]
    },
    {
     "name": "stdout",
     "output_type": "stream",
     "text": [
      "WARNING:tensorflow:From c:\\Users\\danie\\AppData\\Local\\Programs\\Python\\Python311\\Lib\\site-packages\\keras\\src\\losses.py:2976: The name tf.losses.sparse_softmax_cross_entropy is deprecated. Please use tf.compat.v1.losses.sparse_softmax_cross_entropy instead.\n",
      "\n"
     ]
    }
   ],
   "source": [
    "import pandas as pd\n",
    "import numpy as np\n",
    "from sentence_transformers import SentenceTransformer, util"
   ]
  },
  {
   "cell_type": "markdown",
   "id": "bb5d2590",
   "metadata": {},
   "source": [
    "# Step 2: Load Dataset (movies dataset)"
   ]
  },
  {
   "cell_type": "code",
   "execution_count": 3,
   "id": "bda8d876",
   "metadata": {},
   "outputs": [
    {
     "name": "stdout",
     "output_type": "stream",
     "text": [
      "Dataset shape: (10178, 12)\n"
     ]
    },
    {
     "data": {
      "text/html": [
       "<div>\n",
       "<style scoped>\n",
       "    .dataframe tbody tr th:only-of-type {\n",
       "        vertical-align: middle;\n",
       "    }\n",
       "\n",
       "    .dataframe tbody tr th {\n",
       "        vertical-align: top;\n",
       "    }\n",
       "\n",
       "    .dataframe thead th {\n",
       "        text-align: right;\n",
       "    }\n",
       "</style>\n",
       "<table border=\"1\" class=\"dataframe\">\n",
       "  <thead>\n",
       "    <tr style=\"text-align: right;\">\n",
       "      <th></th>\n",
       "      <th>names</th>\n",
       "      <th>date_x</th>\n",
       "      <th>score</th>\n",
       "      <th>genre</th>\n",
       "      <th>overview</th>\n",
       "      <th>crew</th>\n",
       "      <th>orig_title</th>\n",
       "      <th>status</th>\n",
       "      <th>orig_lang</th>\n",
       "      <th>budget_x</th>\n",
       "      <th>revenue</th>\n",
       "      <th>country</th>\n",
       "    </tr>\n",
       "  </thead>\n",
       "  <tbody>\n",
       "    <tr>\n",
       "      <th>0</th>\n",
       "      <td>Creed III</td>\n",
       "      <td>03/02/2023</td>\n",
       "      <td>73.0</td>\n",
       "      <td>Drama, Action</td>\n",
       "      <td>After dominating the boxing world, Adonis Cree...</td>\n",
       "      <td>Michael B. Jordan, Adonis Creed, Tessa Thompso...</td>\n",
       "      <td>Creed III</td>\n",
       "      <td>Released</td>\n",
       "      <td>English</td>\n",
       "      <td>75000000.0</td>\n",
       "      <td>2.716167e+08</td>\n",
       "      <td>AU</td>\n",
       "    </tr>\n",
       "    <tr>\n",
       "      <th>1</th>\n",
       "      <td>Avatar: The Way of Water</td>\n",
       "      <td>12/15/2022</td>\n",
       "      <td>78.0</td>\n",
       "      <td>Science Fiction, Adventure, Action</td>\n",
       "      <td>Set more than a decade after the events of the...</td>\n",
       "      <td>Sam Worthington, Jake Sully, Zoe Saldaña, Neyt...</td>\n",
       "      <td>Avatar: The Way of Water</td>\n",
       "      <td>Released</td>\n",
       "      <td>English</td>\n",
       "      <td>460000000.0</td>\n",
       "      <td>2.316795e+09</td>\n",
       "      <td>AU</td>\n",
       "    </tr>\n",
       "    <tr>\n",
       "      <th>2</th>\n",
       "      <td>The Super Mario Bros. Movie</td>\n",
       "      <td>04/05/2023</td>\n",
       "      <td>76.0</td>\n",
       "      <td>Animation, Adventure, Family, Fantasy, Comedy</td>\n",
       "      <td>While working underground to fix a water main,...</td>\n",
       "      <td>Chris Pratt, Mario (voice), Anya Taylor-Joy, P...</td>\n",
       "      <td>The Super Mario Bros. Movie</td>\n",
       "      <td>Released</td>\n",
       "      <td>English</td>\n",
       "      <td>100000000.0</td>\n",
       "      <td>7.244590e+08</td>\n",
       "      <td>AU</td>\n",
       "    </tr>\n",
       "    <tr>\n",
       "      <th>3</th>\n",
       "      <td>Mummies</td>\n",
       "      <td>01/05/2023</td>\n",
       "      <td>70.0</td>\n",
       "      <td>Animation, Comedy, Family, Adventure, Fantasy</td>\n",
       "      <td>Through a series of unfortunate events, three ...</td>\n",
       "      <td>Óscar Barberán, Thut (voice), Ana Esther Albor...</td>\n",
       "      <td>Momias</td>\n",
       "      <td>Released</td>\n",
       "      <td>Spanish, Castilian</td>\n",
       "      <td>12300000.0</td>\n",
       "      <td>3.420000e+07</td>\n",
       "      <td>AU</td>\n",
       "    </tr>\n",
       "    <tr>\n",
       "      <th>4</th>\n",
       "      <td>Supercell</td>\n",
       "      <td>03/17/2023</td>\n",
       "      <td>61.0</td>\n",
       "      <td>Action</td>\n",
       "      <td>Good-hearted teenager William always lived in ...</td>\n",
       "      <td>Skeet Ulrich, Roy Cameron, Anne Heche, Dr Quin...</td>\n",
       "      <td>Supercell</td>\n",
       "      <td>Released</td>\n",
       "      <td>English</td>\n",
       "      <td>77000000.0</td>\n",
       "      <td>3.409420e+08</td>\n",
       "      <td>US</td>\n",
       "    </tr>\n",
       "    <tr>\n",
       "      <th>...</th>\n",
       "      <td>...</td>\n",
       "      <td>...</td>\n",
       "      <td>...</td>\n",
       "      <td>...</td>\n",
       "      <td>...</td>\n",
       "      <td>...</td>\n",
       "      <td>...</td>\n",
       "      <td>...</td>\n",
       "      <td>...</td>\n",
       "      <td>...</td>\n",
       "      <td>...</td>\n",
       "      <td>...</td>\n",
       "    </tr>\n",
       "    <tr>\n",
       "      <th>10173</th>\n",
       "      <td>20th Century Women</td>\n",
       "      <td>12/28/2016</td>\n",
       "      <td>73.0</td>\n",
       "      <td>Drama</td>\n",
       "      <td>In 1979 Santa Barbara, California, Dorothea Fi...</td>\n",
       "      <td>Annette Bening, Dorothea Fields, Lucas Jade Zu...</td>\n",
       "      <td>20th Century Women</td>\n",
       "      <td>Released</td>\n",
       "      <td>English</td>\n",
       "      <td>7000000.0</td>\n",
       "      <td>9.353729e+06</td>\n",
       "      <td>US</td>\n",
       "    </tr>\n",
       "    <tr>\n",
       "      <th>10174</th>\n",
       "      <td>Delta Force 2: The Colombian Connection</td>\n",
       "      <td>08/24/1990</td>\n",
       "      <td>54.0</td>\n",
       "      <td>Action</td>\n",
       "      <td>When DEA agents are taken captive by a ruthles...</td>\n",
       "      <td>Chuck Norris, Col. Scott McCoy, Billy Drago, R...</td>\n",
       "      <td>Delta Force 2: The Colombian Connection</td>\n",
       "      <td>Released</td>\n",
       "      <td>English</td>\n",
       "      <td>9145817.8</td>\n",
       "      <td>6.698361e+06</td>\n",
       "      <td>US</td>\n",
       "    </tr>\n",
       "    <tr>\n",
       "      <th>10175</th>\n",
       "      <td>The Russia House</td>\n",
       "      <td>12/21/1990</td>\n",
       "      <td>61.0</td>\n",
       "      <td>Drama, Thriller, Romance</td>\n",
       "      <td>Barley Scott Blair, a Lisbon-based editor of R...</td>\n",
       "      <td>Sean Connery, Bartholomew 'Barley' Scott Blair...</td>\n",
       "      <td>The Russia House</td>\n",
       "      <td>Released</td>\n",
       "      <td>English</td>\n",
       "      <td>21800000.0</td>\n",
       "      <td>2.299799e+07</td>\n",
       "      <td>US</td>\n",
       "    </tr>\n",
       "    <tr>\n",
       "      <th>10176</th>\n",
       "      <td>Darkman II: The Return of Durant</td>\n",
       "      <td>07/11/1995</td>\n",
       "      <td>55.0</td>\n",
       "      <td>Action, Adventure, Science Fiction, Thriller, ...</td>\n",
       "      <td>Darkman and Durant return and they hate each o...</td>\n",
       "      <td>Larry Drake, Robert G. Durant, Arnold Vosloo, ...</td>\n",
       "      <td>Darkman II: The Return of Durant</td>\n",
       "      <td>Released</td>\n",
       "      <td>English</td>\n",
       "      <td>116000000.0</td>\n",
       "      <td>4.756613e+08</td>\n",
       "      <td>US</td>\n",
       "    </tr>\n",
       "    <tr>\n",
       "      <th>10177</th>\n",
       "      <td>The Swan Princess: A Royal Wedding</td>\n",
       "      <td>07/20/2020</td>\n",
       "      <td>70.0</td>\n",
       "      <td>Animation, Family, Fantasy</td>\n",
       "      <td>Princess Odette and Prince Derek are going to ...</td>\n",
       "      <td>Nina Herzog, Princess Odette (voice), Yuri Low...</td>\n",
       "      <td>The Swan Princess: A Royal Wedding</td>\n",
       "      <td>Released</td>\n",
       "      <td>English</td>\n",
       "      <td>92400000.0</td>\n",
       "      <td>5.394018e+08</td>\n",
       "      <td>GB</td>\n",
       "    </tr>\n",
       "  </tbody>\n",
       "</table>\n",
       "<p>10178 rows × 12 columns</p>\n",
       "</div>"
      ],
      "text/plain": [
       "                                         names       date_x  score  \\\n",
       "0                                    Creed III  03/02/2023    73.0   \n",
       "1                     Avatar: The Way of Water  12/15/2022    78.0   \n",
       "2                  The Super Mario Bros. Movie  04/05/2023    76.0   \n",
       "3                                      Mummies  01/05/2023    70.0   \n",
       "4                                    Supercell  03/17/2023    61.0   \n",
       "...                                        ...          ...    ...   \n",
       "10173                       20th Century Women  12/28/2016    73.0   \n",
       "10174  Delta Force 2: The Colombian Connection  08/24/1990    54.0   \n",
       "10175                         The Russia House  12/21/1990    61.0   \n",
       "10176         Darkman II: The Return of Durant  07/11/1995    55.0   \n",
       "10177       The Swan Princess: A Royal Wedding  07/20/2020    70.0   \n",
       "\n",
       "                                                   genre  \\\n",
       "0                                          Drama, Action   \n",
       "1                     Science Fiction, Adventure, Action   \n",
       "2          Animation, Adventure, Family, Fantasy, Comedy   \n",
       "3          Animation, Comedy, Family, Adventure, Fantasy   \n",
       "4                                                 Action   \n",
       "...                                                  ...   \n",
       "10173                                              Drama   \n",
       "10174                                             Action   \n",
       "10175                           Drama, Thriller, Romance   \n",
       "10176  Action, Adventure, Science Fiction, Thriller, ...   \n",
       "10177                         Animation, Family, Fantasy   \n",
       "\n",
       "                                                overview  \\\n",
       "0      After dominating the boxing world, Adonis Cree...   \n",
       "1      Set more than a decade after the events of the...   \n",
       "2      While working underground to fix a water main,...   \n",
       "3      Through a series of unfortunate events, three ...   \n",
       "4      Good-hearted teenager William always lived in ...   \n",
       "...                                                  ...   \n",
       "10173  In 1979 Santa Barbara, California, Dorothea Fi...   \n",
       "10174  When DEA agents are taken captive by a ruthles...   \n",
       "10175  Barley Scott Blair, a Lisbon-based editor of R...   \n",
       "10176  Darkman and Durant return and they hate each o...   \n",
       "10177  Princess Odette and Prince Derek are going to ...   \n",
       "\n",
       "                                                    crew  \\\n",
       "0      Michael B. Jordan, Adonis Creed, Tessa Thompso...   \n",
       "1      Sam Worthington, Jake Sully, Zoe Saldaña, Neyt...   \n",
       "2      Chris Pratt, Mario (voice), Anya Taylor-Joy, P...   \n",
       "3      Óscar Barberán, Thut (voice), Ana Esther Albor...   \n",
       "4      Skeet Ulrich, Roy Cameron, Anne Heche, Dr Quin...   \n",
       "...                                                  ...   \n",
       "10173  Annette Bening, Dorothea Fields, Lucas Jade Zu...   \n",
       "10174  Chuck Norris, Col. Scott McCoy, Billy Drago, R...   \n",
       "10175  Sean Connery, Bartholomew 'Barley' Scott Blair...   \n",
       "10176  Larry Drake, Robert G. Durant, Arnold Vosloo, ...   \n",
       "10177  Nina Herzog, Princess Odette (voice), Yuri Low...   \n",
       "\n",
       "                                    orig_title     status  \\\n",
       "0                                    Creed III   Released   \n",
       "1                     Avatar: The Way of Water   Released   \n",
       "2                  The Super Mario Bros. Movie   Released   \n",
       "3                                       Momias   Released   \n",
       "4                                    Supercell   Released   \n",
       "...                                        ...        ...   \n",
       "10173                       20th Century Women   Released   \n",
       "10174  Delta Force 2: The Colombian Connection   Released   \n",
       "10175                         The Russia House   Released   \n",
       "10176         Darkman II: The Return of Durant   Released   \n",
       "10177       The Swan Princess: A Royal Wedding   Released   \n",
       "\n",
       "                 orig_lang     budget_x       revenue country  \n",
       "0                  English   75000000.0  2.716167e+08      AU  \n",
       "1                  English  460000000.0  2.316795e+09      AU  \n",
       "2                  English  100000000.0  7.244590e+08      AU  \n",
       "3       Spanish, Castilian   12300000.0  3.420000e+07      AU  \n",
       "4                  English   77000000.0  3.409420e+08      US  \n",
       "...                    ...          ...           ...     ...  \n",
       "10173              English    7000000.0  9.353729e+06      US  \n",
       "10174              English    9145817.8  6.698361e+06      US  \n",
       "10175              English   21800000.0  2.299799e+07      US  \n",
       "10176              English  116000000.0  4.756613e+08      US  \n",
       "10177              English   92400000.0  5.394018e+08      GB  \n",
       "\n",
       "[10178 rows x 12 columns]"
      ]
     },
     "execution_count": 3,
     "metadata": {},
     "output_type": "execute_result"
    }
   ],
   "source": [
    "path = \"imdb_movies.csv\"\n",
    "movies = pd.read_csv(path)   # replace with your file\n",
    "movies = movies.dropna(subset=[\"names\", \"overview\"])  # ensure text available\n",
    "\n",
    "print(\"Dataset shape:\", movies.shape)\n",
    "movies"
   ]
  },
  {
   "cell_type": "markdown",
   "id": "a0ac62dd",
   "metadata": {},
   "source": [
    "# Step 3: Load Pretrained Sentence Transformer Model"
   ]
  },
  {
   "cell_type": "code",
   "execution_count": 4,
   "id": "d42e8394",
   "metadata": {},
   "outputs": [],
   "source": [
    "model = SentenceTransformer(\"all-MiniLM-L6-v2\")"
   ]
  },
  {
   "cell_type": "markdown",
   "id": "f99b02d1",
   "metadata": {},
   "source": [
    "# Step 4: Encode Movie Overviews\n"
   ]
  },
  {
   "cell_type": "code",
   "execution_count": 5,
   "id": "c57524e3",
   "metadata": {},
   "outputs": [
    {
     "data": {
      "application/vnd.jupyter.widget-view+json": {
       "model_id": "a5e8de3930094e769917937d0b9a022e",
       "version_major": 2,
       "version_minor": 0
      },
      "text/plain": [
       "Batches:   0%|          | 0/319 [00:00<?, ?it/s]"
      ]
     },
     "metadata": {},
     "output_type": "display_data"
    },
    {
     "name": "stdout",
     "output_type": "stream",
     "text": [
      "Embeddings shape: torch.Size([10178, 384])\n"
     ]
    }
   ],
   "source": [
    "movie_embeddings = model.encode(\n",
    "                                movies[\"overview\"].tolist(),\n",
    "                                convert_to_tensor=True,\n",
    "                                show_progress_bar=True\n",
    "                                )\n",
    "\n",
    "print(\"Embeddings shape:\", movie_embeddings.shape)"
   ]
  },
  {
   "cell_type": "markdown",
   "id": "576085e5",
   "metadata": {},
   "source": [
    "# Step 5: Build Recommendation Function"
   ]
  },
  {
   "cell_type": "code",
   "execution_count": 6,
   "id": "f34188dc",
   "metadata": {},
   "outputs": [],
   "source": [
    "def recommend(movie_title, top_k=5):\n",
    "    # find index\n",
    "    idx = movies[movies[\"names\"].str.lower() == movie_title.lower()].index\n",
    "    if len(idx) == 0:\n",
    "        return f\"Movie '{movie_title}' not found.\"\n",
    "    idx = idx[0]\n",
    "\n",
    "    query_embedding = movie_embeddings[idx]\n",
    "\n",
    "    # cosine similarity\n",
    "    scores = util.cos_sim(query_embedding, movie_embeddings)[0].cpu().numpy()\n",
    "    # top results\n",
    "    top_indices = np.argsort(scores)[::-1][1:top_k+1]  # skip the movie itself\n",
    "\n",
    "    # Usa \"names\" invece di \"title\" perché quella è la colonna che esiste nel dataset\n",
    "    recommendations = movies.iloc[top_indices][[\"names\", \"overview\"]]\n",
    "    return recommendations"
   ]
  },
  {
   "cell_type": "code",
   "execution_count": 7,
   "id": "e93fd9bf",
   "metadata": {},
   "outputs": [
    {
     "name": "stdout",
     "output_type": "stream",
     "text": [
      "Colonne disponibili nel dataset:\n",
      "['names', 'date_x', 'score', 'genre', 'overview', 'crew', 'orig_title', 'status', 'orig_lang', 'budget_x', 'revenue', 'country']\n",
      "\n",
      "==================================================\n",
      "\n",
      "                        names  \\\n",
      "4835  7 Guardians of the Tomb   \n",
      "412    The Mummy Resurrection   \n",
      "8528     Flowers in the Attic   \n",
      "7692                  The Dig   \n",
      "6850       Death at a Funeral   \n",
      "\n",
      "                                               overview  \n",
      "4835  An innocent discovery of a well-preserved mumm...  \n",
      "412   When an infamous \"cursed\" Egyptian sarcophagus...  \n",
      "8528  After the death of her husband, a mother takes...  \n",
      "7692  As WWII looms, a wealthy widow hires an amateu...  \n",
      "6850  A myriad of outrageous calamities befalls an e...  \n"
     ]
    }
   ],
   "source": [
    "# Prima controlliamo le colonne disponibili nel dataset\n",
    "print(\"Colonne disponibili nel dataset:\")\n",
    "print(movies.columns.tolist())\n",
    "print(\"\\n\" + \"=\"*50 + \"\\n\")\n",
    "\n",
    "# Example\n",
    "print(recommend(\"Mummies\"))"
   ]
  },
  {
   "cell_type": "markdown",
   "id": "80252ec3",
   "metadata": {},
   "source": [
    "# Step 6: Save Model and Data in Pickle Format"
   ]
  },
  {
   "cell_type": "code",
   "execution_count": 8,
   "id": "56ee1d1a",
   "metadata": {},
   "outputs": [
    {
     "name": "stdout",
     "output_type": "stream",
     "text": [
      "Directory 'pickle_model' created/verified successfully!\n"
     ]
    }
   ],
   "source": [
    "import joblib\n",
    "import os\n",
    "\n",
    "pickle_dir = \"pickle_model\"\n",
    "os.makedirs(pickle_dir, exist_ok=True)\n",
    "\n",
    "print(f\"Directory '{pickle_dir}' created/verified successfully!\")"
   ]
  },
  {
   "cell_type": "code",
   "execution_count": 9,
   "id": "0e51f2c7",
   "metadata": {},
   "outputs": [
    {
     "name": "stdout",
     "output_type": "stream",
     "text": [
      "✅ Modello SentenceTransformer salvato in: pickle_model\\sentence_transformer_model.pkl\n",
      "✅ Embeddings dei film salvati in: pickle_model\\movie_embeddings.pkl\n",
      "✅ Dataset dei film salvato in: pickle_model\\movies_dataset.pkl\n",
      "✅ Embeddings dei film salvati in: pickle_model\\movie_embeddings.pkl\n",
      "✅ Dataset dei film salvato in: pickle_model\\movies_dataset.pkl\n"
     ]
    }
   ],
   "source": [
    "# 1. Salvare il modello SentenceTransformer\n",
    "model_path = os.path.join(pickle_dir, \"sentence_transformer_model.pkl\")\n",
    "joblib.dump(model, model_path)\n",
    "print(f\"✅ Modello SentenceTransformer salvato in: {model_path}\")\n",
    "\n",
    "# 2. Salvare gli embeddings dei film\n",
    "embeddings_path = os.path.join(pickle_dir, \"movie_embeddings.pkl\")\n",
    "joblib.dump(movie_embeddings, embeddings_path)\n",
    "print(f\"✅ Embeddings dei film salvati in: {embeddings_path}\")\n",
    "\n",
    "# 3. Salvare il dataset dei film\n",
    "movies_path = os.path.join(pickle_dir, \"movies_dataset.pkl\")\n",
    "joblib.dump(movies, movies_path)\n",
    "print(f\"✅ Dataset dei film salvato in: {movies_path}\")"
   ]
  },
  {
   "cell_type": "code",
   "execution_count": 11,
   "id": "1b24fe92",
   "metadata": {},
   "outputs": [
    {
     "name": "stdout",
     "output_type": "stream",
     "text": [
      "Sistema completo di raccomandazione salvato in: pickle_model\\complete_recommendation_system.pkl\n"
     ]
    }
   ],
   "source": [
    "# 4. Salvare tutto in un singolo file per facilità di caricamento\n",
    "complete_model_data = {\n",
    "                    'model': model,\n",
    "                    'embeddings': movie_embeddings,\n",
    "                    'movies_data': movies,\n",
    "                    'recommend_function': recommend\n",
    "                    }\n",
    "\n",
    "complete_path = os.path.join(pickle_dir, \"complete_recommendation_system.pkl\")\n",
    "joblib.dump(complete_model_data, complete_path)\n",
    "print(f\"Sistema completo di raccomandazione salvato in: {complete_path}\")\n"
   ]
  },
  {
   "cell_type": "markdown",
   "id": "631100ba",
   "metadata": {},
   "source": [
    "# Step 7: Come Ricaricare il Modello (Esempio)"
   ]
  },
  {
   "cell_type": "code",
   "execution_count": 12,
   "id": "e2ec6844",
   "metadata": {},
   "outputs": [],
   "source": [
    "# Esempio di come ricaricare il sistema completo con joblib\n",
    "def load_recommendation_system(pickle_dir=\"pickle_model\"):\n",
    "    \"\"\"\n",
    "    Carica il sistema di raccomandazione completo da file joblib\n",
    "    \"\"\"\n",
    "    complete_path = os.path.join(pickle_dir, \"complete_recommendation_system.pkl\")\n",
    "    \n",
    "    data = joblib.load(complete_path)\n",
    "    \n",
    "    return data['model'], data['embeddings'], data['movies_data'], data['recommend_function']\n",
    "\n",
    "# Funzione alternativa per caricare i componenti singolarmente\n",
    "def load_components_separately(pickle_dir=\"pickle_model\"):\n",
    "    \"\"\"\n",
    "    Carica i componenti singolarmente per maggiore flessibilità\n",
    "    \"\"\"\n",
    "    model_path = os.path.join(pickle_dir, \"sentence_transformer_model.pkl\")\n",
    "    embeddings_path = os.path.join(pickle_dir, \"movie_embeddings.pkl\")\n",
    "    movies_path = os.path.join(pickle_dir, \"movies_dataset.pkl\")\n",
    "    \n",
    "    model = joblib.load(model_path)\n",
    "    embeddings = joblib.load(embeddings_path)\n",
    "    movies_data = joblib.load(movies_path)\n",
    "    \n",
    "    return model, embeddings, movies_data\n",
    "\n",
    "# Per usarlo in futuro:\n",
    "# loaded_model, loaded_embeddings, loaded_movies, loaded_recommend_func = load_recommendation_system()\n",
    "# recommendations = loaded_recommend_func(\"Avatar\")"
   ]
  },
  {
   "cell_type": "code",
   "execution_count": null,
   "id": "51cc484b",
   "metadata": {},
   "outputs": [],
   "source": [
    "loaded_model, loaded_embeddings, loaded_movies, loaded_recommend_func = load_recommendation_system()\n",
    "recommendations = loaded_recommend_func(\"Avatar\")\n",
    "recommendations"
   ]
  }
 ],
 "metadata": {
  "kernelspec": {
   "display_name": "Python 3",
   "language": "python",
   "name": "python3"
  },
  "language_info": {
   "codemirror_mode": {
    "name": "ipython",
    "version": 3
   },
   "file_extension": ".py",
   "mimetype": "text/x-python",
   "name": "python",
   "nbconvert_exporter": "python",
   "pygments_lexer": "ipython3",
   "version": "3.11.9"
  }
 },
 "nbformat": 4,
 "nbformat_minor": 5
}
